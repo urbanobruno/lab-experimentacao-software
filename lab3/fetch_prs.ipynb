{
 "cells": [
  {
   "cell_type": "code",
   "execution_count": null,
   "id": "a511e907",
   "metadata": {},
   "outputs": [],
   "source": [
    "# Fetch PRs from each repo collected"
   ]
  }
 ],
 "metadata": {
  "language_info": {
   "name": "python"
  }
 },
 "nbformat": 4,
 "nbformat_minor": 5
}
