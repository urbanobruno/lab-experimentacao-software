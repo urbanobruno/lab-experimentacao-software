{
 "cells": [
  {
   "cell_type": "code",
   "execution_count": null,
   "metadata": {},
   "outputs": [],
   "source": [
    "import os\n",
    "import subprocess\n",
    "import pandas as pd\n",
    "import ast"
   ]
  },
  {
   "cell_type": "code",
   "execution_count": null,
   "metadata": {},
   "outputs": [],
   "source": [
    "repos_dir = \"./java_repos\"\n",
    "results_dir = \"./ck_results\"\n",
    "ck_jar_path = \"./ck/target/ck-0.7.1-SNAPSHOT-jar-with-dependencies.jar\""
   ]
  },
  {
   "cell_type": "code",
   "execution_count": null,
   "metadata": {},
   "outputs": [],
   "source": [
    "df = pd.read_csv(\"top_1000_java_repos.csv\")\n",
    "df"
   ]
  },
  {
   "cell_type": "code",
   "execution_count": null,
   "metadata": {},
   "outputs": [],
   "source": [
    "df['owner'] = df['owner'].apply(lambda x: ast.literal_eval(x) if isinstance(x, str) else x)\n",
    "df['owner'] = df['owner'].apply(lambda x: x['login'] if isinstance(x, dict) and 'login' in x else x)\n",
    "df[\"owner\"]"
   ]
  },
  {
   "cell_type": "code",
   "execution_count": null,
   "metadata": {},
   "outputs": [],
   "source": [
    "summary_results_path = \"summarized_results.csv\"\n",
    "if os.path.exists(summary_results_path):\n",
    "    results_df = pd.read_csv(summary_results_path)\n",
    "else:\n",
    "    results_df = pd.DataFrame(columns=df.columns.tolist() + [\n",
    "        'cbo_mean', 'cbo_median', 'cbo_std',\n",
    "        'dit_mean', 'dit_median', 'dit_std',\n",
    "        'lcom_mean', 'lcom_median', 'lcom_std'\n",
    "    ])\n"
   ]
  },
  {
   "cell_type": "code",
   "execution_count": null,
   "metadata": {},
   "outputs": [],
   "source": [
    "def sanitize_repo_name(repo_name):\n",
    "    \"\"\"Sanitize repository name by replacing '/' and '-' with '_'\"\"\"\n",
    "    return repo_name.replace('/', '_').replace('-', '_')"
   ]
  },
  {
   "cell_type": "code",
   "execution_count": null,
   "metadata": {},
   "outputs": [],
   "source": [
    "def clone_repository(repo_url, repo_name):\n",
    "    \"\"\"Clona o repositório caso ainda não exista.\"\"\"\n",
    "    repo_path = os.path.join(repos_dir, repo_name.replace('/', '_'))\n",
    "    if not os.path.exists(repo_path):\n",
    "        subprocess.run([\"git\", \"clone\", repo_url, repo_path], check=True)\n",
    "    return repo_path"
   ]
  },
  {
   "cell_type": "code",
   "execution_count": null,
   "metadata": {},
   "outputs": [],
   "source": [
    "def run_ck(project_dir, output_dir):\n",
    "    \"\"\"Executa a ferramenta CK para análise de métricas.\"\"\"\n",
    "    subprocess.run([\n",
    "        \"java\", \"-jar\", ck_jar_path,\n",
    "        project_dir,\n",
    "        \"true\",  \n",
    "        \"0\",     \n",
    "        \"true\",  \n",
    "        output_dir\n",
    "    ], check=True)"
   ]
  },
  {
   "cell_type": "code",
   "execution_count": null,
   "metadata": {},
   "outputs": [],
   "source": [
    "results_df"
   ]
  },
  {
   "cell_type": "code",
   "execution_count": null,
   "metadata": {},
   "outputs": [],
   "source": [
    "# Processando todos os repos\n",
    "\n",
    "summary_results = []\n",
    "for index, row in df.iterrows():\n",
    "    repo_name = row['name']\n",
    "    repo_owner = row['owner']\n",
    "    \n",
    "    class_csv_path = os.path.join(results_dir, f\"{sanitize_repo_name(repo_name)}class.csv\")\n",
    "\n",
    "    if repo_name in results_df['name'].values:\n",
    "        print(f\"⚠️ Repository {repo_name} already processed. Skipping...\")\n",
    "        continue\n",
    "\n",
    "    if os.path.exists(class_csv_path):\n",
    "        print(f\"⚠️ CK results for {repo_name} already exist. Summarizing data...\")\n",
    "\n",
    "        try:\n",
    "            df_ck = pd.read_csv(class_csv_path)\n",
    "        except:\n",
    "            print(f\"⚠️ Empty CK file for {repo_name}, skipping analysis.\")\n",
    "            continue\n",
    "\n",
    "        filtered_df = df_ck[['class', 'cbo', 'dit', 'lcom']]\n",
    "\n",
    "        summary = {\n",
    "            'cbo_mean': filtered_df['cbo'].mean(),\n",
    "            'cbo_median': filtered_df['cbo'].median(),\n",
    "            'cbo_std': filtered_df['cbo'].std(),\n",
    "            'dit_mean': filtered_df['dit'].mean(),\n",
    "            'dit_median': filtered_df['dit'].median(),\n",
    "            'dit_std': filtered_df['dit'].std(),\n",
    "            'lcom_mean': filtered_df['lcom'].mean(),\n",
    "            'lcom_median': filtered_df['lcom'].median(),\n",
    "            'lcom_std': filtered_df['lcom'].std(),\n",
    "        }\n",
    "        repo_summary = row.copy()\n",
    "        for key, value in summary.items():\n",
    "            repo_summary[key] = value\n",
    "\n",
    "        summary_results.append(repo_summary)\n",
    "        continue  \n",
    "    \n",
    "    repo_url = f\"https://github.com/{repo_owner}/{repo_name}.git\"\n",
    "    \n",
    "    print(f\"🔄 Cloning {repo_owner}/{repo_name}...\")\n",
    "    try:\n",
    "        repo_path = clone_repository(repo_url, repo_name)\n",
    "        if repo_path is None:\n",
    "            continue\n",
    "        \n",
    "        repo_results_dir = os.path.join(results_dir, sanitize_repo_name(repo_name))\n",
    "        os.makedirs(repo_results_dir, exist_ok=True)\n",
    "\n",
    "        print(f\"⚙️ Running CK analysis for {repo_name}...\")\n",
    "        run_ck(repo_path, repo_results_dir)\n",
    "        print(f\"✅ Analysis completed for {repo_name}!\")\n",
    "\n",
    "        # Process CK results\n",
    "        class_csv_path = os.path.join(results_dir, f\"{sanitize_repo_name(repo_name)}class.csv\")\n",
    "        if os.path.exists(class_csv_path):\n",
    "            df_ck = pd.read_csv(class_csv_path)\n",
    "            filtered_df = df_ck[['class', 'cbo', 'dit', 'lcom']]\n",
    "\n",
    "            summary = {\n",
    "                'cbo_mean': filtered_df['cbo'].mean(),\n",
    "                'cbo_median': filtered_df['cbo'].median(),\n",
    "                'cbo_std': filtered_df['cbo'].std(),\n",
    "                'dit_mean': filtered_df['dit'].mean(),\n",
    "                'dit_median': filtered_df['dit'].median(),\n",
    "                'dit_std': filtered_df['dit'].std(),\n",
    "                'lcom_mean': filtered_df['lcom'].mean(),\n",
    "                'lcom_median': filtered_df['lcom'].median(),\n",
    "                'lcom_std': filtered_df['lcom'].std(),\n",
    "            }\n",
    "            repo_summary = row.copy()\n",
    "            for key, value in summary.items():\n",
    "                repo_summary[key] = value\n",
    "\n",
    "            summary_results.append(repo_summary)\n",
    "        else:\n",
    "            print(f\"⚠️ CK output missing for {repo_name}, skipping analysis.\")\n",
    "    \n",
    "    except Exception as e:\n",
    "        print(f\"⚠️ Error processing {repo_owner}/{repo_name}: {e}\")\n",
    "        continue"
   ]
  },
  {
   "cell_type": "code",
   "execution_count": null,
   "metadata": {},
   "outputs": [],
   "source": [
    "new_results_df = pd.DataFrame(summary_results)\n",
    "if not new_results_df.empty:\n",
    "    results_df = pd.concat([results_df, new_results_df], ignore_index=True)\n",
    "    results_df.to_csv(summary_results_path, index=False)\n",
    "    print(\"✅ Summarized results updated in summarized_results.csv\")\n",
    "else:\n",
    "    print(\"⚠️ No new repositories processed.\")"
   ]
  },
  {
   "cell_type": "code",
   "execution_count": null,
   "metadata": {},
   "outputs": [],
   "source": [
    "def clean_unnecessary_ck_files(output_dir):\n",
    "    \"\"\"Remove arquivos CK desnecessários, mantendo apenas o class.csv.\"\"\"\n",
    "    for file in os.listdir(output_dir):\n",
    "        file_path = os.path.join(output_dir, file)\n",
    "        if os.path.isfile(file_path) and not file.endswith(\"class.csv\"):\n",
    "            os.remove(os.path.join(output_dir, file))"
   ]
  },
  {
   "cell_type": "code",
   "execution_count": null,
   "metadata": {},
   "outputs": [],
   "source": [
    "ck_results = \"./ck_results\"\n",
    "\n",
    "clean_unnecessary_ck_files(ck_results)\n"
   ]
  }
 ],
 "metadata": {
  "kernelspec": {
   "display_name": "base",
   "language": "python",
   "name": "python3"
  },
  "language_info": {
   "codemirror_mode": {
    "name": "ipython",
    "version": 3
   },
   "file_extension": ".py",
   "mimetype": "text/x-python",
   "name": "python",
   "nbconvert_exporter": "python",
   "pygments_lexer": "ipython3",
   "version": "3.11.7"
  }
 },
 "nbformat": 4,
 "nbformat_minor": 2
}
