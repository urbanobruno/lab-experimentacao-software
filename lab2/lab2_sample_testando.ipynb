{
 "cells": [
  {
   "cell_type": "code",
   "execution_count": null,
   "metadata": {},
   "outputs": [],
   "source": [
    "# Testando com um repo\n",
    "row = df.iloc[2]\n",
    "repo_name = row['name']\n",
    "repo_owner = row['owner']\n",
    "repo_url = f\"https://github.com/{repo_owner}/{repo_name}.git\"\n",
    "\n",
    "print(f\"🔄 Cloning {repo_owner}/{repo_name}...\")\n",
    "\n",
    "try:\n",
    "    repo_path = clone_repository(repo_url, repo_name)\n",
    "    repo_results_dir = os.path.join(results_dir, repo_name.replace('/', '_'))\n",
    "    os.makedirs(repo_results_dir, exist_ok=True)\n",
    "\n",
    "    print(f\"⚙️ Running CK analysis for {repo_name}...\")\n",
    "    run_ck(repo_path, repo_results_dir)\n",
    "    print(f\"✅ Analysis completed for {repo_name}!\")\n",
    "\n",
    "except Exception as e:\n",
    "    print(f\"⚠️ Error processing {repo_owner}/{repo_name}: {e}\")\n"
   ]
  },
  {
   "cell_type": "code",
   "execution_count": null,
   "metadata": {},
   "outputs": [],
   "source": [
    "results_dir = \"./ck_results\"\n",
    "repo_name = \"java-design-patterns\"\n",
    "class_csv_path = os.path.join(results_dir, f\"{repo_name}class.csv\")\n",
    "filtered_csv_path = os.path.join(results_dir, f\"{repo_name}_filtered_metrics.csv\")\n",
    "\n",
    "df_ck = pd.read_csv(class_csv_path)\n",
    "\n",
    "filtered_df = df_ck[['class', 'cbo', 'dit', 'lcom']]\n",
    "\n",
    "filtered_df\n"
   ]
  },
  {
   "cell_type": "code",
   "execution_count": null,
   "metadata": {},
   "outputs": [],
   "source": [
    "\n",
    "summary = {\n",
    "    'cbo_mean': filtered_df['cbo'].mean(),\n",
    "    'cbo_median': filtered_df['cbo'].median(),\n",
    "    'cbo_std': filtered_df['cbo'].std(),\n",
    "    'dit_mean': filtered_df['dit'].mean(),\n",
    "    'dit_median': filtered_df['dit'].median(),\n",
    "    'dit_std': filtered_df['dit'].std(),\n",
    "    'lcom_mean': filtered_df['lcom'].mean(),\n",
    "    'lcom_median': filtered_df['lcom'].median(),\n",
    "    'lcom_std': filtered_df['lcom'].std(),\n",
    "}\n",
    "\n",
    "repo_summary = df.iloc[2].copy()\n",
    "for key, value in summary.items():\n",
    "    repo_summary[key] = value\n",
    "\n",
    "results_df = pd.DataFrame([repo_summary])\n",
    "\n",
    "results_df"
   ]
  },
  {
   "cell_type": "code",
   "execution_count": null,
   "metadata": {},
   "outputs": [],
   "source": [
    "\n",
    "results_df.to_csv(\"summarized_results.csv\", index=False)\n",
    "print(\"✅ Summarized results saved to summarized_results.csv\")"
   ]
  }
 ],
 "metadata": {
  "language_info": {
   "name": "python"
  }
 },
 "nbformat": 4,
 "nbformat_minor": 2
}
